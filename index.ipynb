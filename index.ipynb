{
  "nbformat": 4,
  "nbformat_minor": 0,
  "metadata": {
    "colab": {
      "name": "Untitled0.ipynb",
      "provenance": [],
      "collapsed_sections": [],
      "authorship_tag": "ABX9TyNL6zMRZoE2FvZahTEawLup",
      "include_colab_link": true
    },
    "kernelspec": {
      "name": "python3",
      "display_name": "Python 3"
    }
  },
  "cells": [
    {
      "cell_type": "markdown",
      "metadata": {
        "id": "view-in-github",
        "colab_type": "text"
      },
      "source": [
        "<a href=\"https://colab.research.google.com/github/AdamPetroff/py-tensorflow-digit-recogniser-model/blob/master/index.ipynb\" target=\"_parent\"><img src=\"https://colab.research.google.com/assets/colab-badge.svg\" alt=\"Open In Colab\"/></a>"
      ]
    },
    {
      "cell_type": "markdown",
      "metadata": {
        "id": "vDXshY569xxr",
        "colab_type": "text"
      },
      "source": [
        "Train model on MNIST dataset"
      ]
    },
    {
      "cell_type": "markdown",
      "metadata": {
        "id": "K9OKL7Ff96Jt",
        "colab_type": "text"
      },
      "source": [
        "1. Import numpy, tensorflow"
      ]
    },
    {
      "cell_type": "code",
      "metadata": {
        "id": "2YjHf_tg9uWZ",
        "colab_type": "code",
        "colab": {}
      },
      "source": [
        "import numpy as np\n",
        "import tensorflow as tf\n"
      ],
      "execution_count": 0,
      "outputs": []
    },
    {
      "cell_type": "markdown",
      "metadata": {
        "id": "A3gXmsdS9v7r",
        "colab_type": "text"
      },
      "source": [
        "get the dataset"
      ]
    },
    {
      "cell_type": "code",
      "metadata": {
        "id": "lvJXqHBd-WGL",
        "colab_type": "code",
        "colab": {}
      },
      "source": [
        "mnist = tf.keras.datasets.mnist\n",
        "test = np.array(mnist.load_data())\n",
        "(x_train, y_train), (x_test, y_test) = mnist.load_data()"
      ],
      "execution_count": 0,
      "outputs": []
    },
    {
      "cell_type": "markdown",
      "metadata": {
        "id": "YIkZnf3f_7rz",
        "colab_type": "text"
      },
      "source": [
        "check shape of data"
      ]
    },
    {
      "cell_type": "code",
      "metadata": {
        "id": "oUOjqr38_0Lq",
        "colab_type": "code",
        "outputId": "e4322a27-0117-4421-9f76-ed248d4a43a5",
        "colab": {
          "base_uri": "https://localhost:8080/",
          "height": 51
        }
      },
      "source": [
        "print(\"x:\", x_train.shape)\n",
        "print(\"y: \", y_train.shape)"
      ],
      "execution_count": 0,
      "outputs": [
        {
          "output_type": "stream",
          "text": [
            "x: (60000, 28, 28)\n",
            "y:  (60000,)\n"
          ],
          "name": "stdout"
        }
      ]
    },
    {
      "cell_type": "code",
      "metadata": {
        "id": "GmEz8x8hASY3",
        "colab_type": "code",
        "colab": {}
      },
      "source": [
        "We have 60k examples of 28 * 28 pixels. Each pixel is a number ranging 0 - 255 (shade of grey)"
      ],
      "execution_count": 0,
      "outputs": []
    },
    {
      "cell_type": "markdown",
      "metadata": {
        "id": "vqkGOScUAl69",
        "colab_type": "text"
      },
      "source": [
        "a non black row of pixels example: "
      ]
    },
    {
      "cell_type": "code",
      "metadata": {
        "id": "nIMJQpm9An8Y",
        "colab_type": "code",
        "outputId": "c2182970-c33f-48cb-8cba-78149961734d",
        "colab": {
          "base_uri": "https://localhost:8080/",
          "height": 51
        }
      },
      "source": [
        "print(x_train[5, 5])"
      ],
      "execution_count": 0,
      "outputs": [
        {
          "output_type": "stream",
          "text": [
            "[  0   0   0   0   0   0   0   0   0   0   0   0   0   0   0  13  25 100\n",
            " 122   7   0   0   0   0   0   0   0   0]\n"
          ],
          "name": "stdout"
        }
      ]
    },
    {
      "cell_type": "markdown",
      "metadata": {
        "id": "30Zff8gFPgao",
        "colab_type": "text"
      },
      "source": [
        "an example of one item from data"
      ]
    },
    {
      "cell_type": "code",
      "metadata": {
        "id": "WW9RZXqKPlae",
        "colab_type": "code",
        "outputId": "5f97cd95-5682-49c1-e203-5c9c9495031c",
        "colab": {
          "base_uri": "https://localhost:8080/",
          "height": 265
        }
      },
      "source": [
        "from matplotlib import pyplot as plt\n",
        "\n",
        "first_image = x_test[0]\n",
        "\n",
        "plt.imshow(first_image, cmap='gray')\n",
        "plt.show()"
      ],
      "execution_count": 0,
      "outputs": [
        {
          "output_type": "display_data",
          "data": {
            "image/png": "[encoded data removed]",
            "text/plain": [
              "<Figure size 432x288 with 1 Axes>"
            ]
          },
          "metadata": {
            "tags": [],
            "needs_background": "light"
          }
        }
      ]
    },
    {
      "cell_type": "markdown",
      "metadata": {
        "id": "3q0x6LT0Bex-",
        "colab_type": "text"
      },
      "source": [
        "normalize x values"
      ]
    },
    {
      "cell_type": "code",
      "metadata": {
        "id": "KbWpUheABiMx",
        "colab_type": "code",
        "outputId": "a88dc6d4-c65e-4aa2-d1c0-eaf631d96340",
        "colab": {
          "base_uri": "https://localhost:8080/",
          "height": 102
        }
      },
      "source": [
        "x_train_normalized, x_test_normalized = x_train / 255, x_test / 255\n",
        "print(x_train_normalized[5, 5])"
      ],
      "execution_count": 0,
      "outputs": [
        {
          "output_type": "stream",
          "text": [
            "[0.         0.         0.         0.         0.         0.\n",
            " 0.         0.         0.         0.         0.         0.\n",
            " 0.         0.         0.         0.05098039 0.09803922 0.39215686\n",
            " 0.47843137 0.02745098 0.         0.         0.         0.\n",
            " 0.         0.         0.         0.        ]\n"
          ],
          "name": "stdout"
        }
      ]
    },
    {
      "cell_type": "markdown",
      "metadata": {
        "id": "HPreUCztDVnX",
        "colab_type": "text"
      },
      "source": [
        "make a sequential model with a dense input layer with shape (28, 28),\n",
        "a hiden layer,\n",
        "a dropout layer to lower overfitting, \n",
        "a hidden layer and a output dense layer with 10 units"
      ]
    },
    {
      "cell_type": "code",
      "metadata": {
        "id": "BN3aPD86Dmmm",
        "colab_type": "code",
        "colab": {}
      },
      "source": [
        "model = tf.keras.models.Sequential([\n",
        "  tf.keras.layers.Flatten(input_shape=(28, 28)),\n",
        "  tf.keras.layers.Dense(units = 125, activation=\"relu\"),\n",
        "  tf.keras.layers.Dropout(0.2),\n",
        "  tf.keras.layers.Dense(units=10)\n",
        "])"
      ],
      "execution_count": 0,
      "outputs": []
    },
    {
      "cell_type": "markdown",
      "metadata": {
        "id": "gVX-Lks0HpSN",
        "colab_type": "text"
      },
      "source": [
        "make a loss fc"
      ]
    },
    {
      "cell_type": "code",
      "metadata": {
        "id": "3O-Y10CIIUHW",
        "colab_type": "code",
        "colab": {}
      },
      "source": [
        "loss_fc = tf.keras.losses.SparseCategoricalCrossentropy(from_logits = True)"
      ],
      "execution_count": 0,
      "outputs": []
    },
    {
      "cell_type": "code",
      "metadata": {
        "id": "k8NCQn1oK3By",
        "colab_type": "code",
        "colab": {}
      },
      "source": [
        "model.compile(optimizer=\"adam\", loss=loss_fc, metrics=[\"accuracy\"])"
      ],
      "execution_count": 0,
      "outputs": []
    },
    {
      "cell_type": "markdown",
      "metadata": {
        "id": "Er38MG5hLFrk",
        "colab_type": "text"
      },
      "source": [
        "train the model - minimize the loss"
      ]
    },
    {
      "cell_type": "code",
      "metadata": {
        "id": "NjjArKF6LJVu",
        "colab_type": "code",
        "outputId": "f0b70577-5987-4a45-9682-876459fb6773",
        "colab": {
          "base_uri": "https://localhost:8080/",
          "height": 204
        }
      },
      "source": [
        "model.fit(x = x_train_normalized, y = y_train, epochs = 5)"
      ],
      "execution_count": 0,
      "outputs": [
        {
          "output_type": "stream",
          "text": [
            "Epoch 1/5\n",
            "1875/1875 [==============================] - 3s 2ms/step - loss: 0.2646 - accuracy: 0.9239\n",
            "Epoch 2/5\n",
            "1875/1875 [==============================] - 4s 2ms/step - loss: 0.1179 - accuracy: 0.9655\n",
            "Epoch 3/5\n",
            "1875/1875 [==============================] - 3s 2ms/step - loss: 0.0794 - accuracy: 0.9761\n",
            "Epoch 4/5\n",
            "1875/1875 [==============================] - 3s 2ms/step - loss: 0.0587 - accuracy: 0.9824\n",
            "Epoch 5/5\n",
            "1875/1875 [==============================] - 3s 2ms/step - loss: 0.0451 - accuracy: 0.9863\n"
          ],
          "name": "stdout"
        },
        {
          "output_type": "execute_result",
          "data": {
            "text/plain": [
              "<tensorflow.python.keras.callbacks.History at 0x7fdd839b56a0>"
            ]
          },
          "metadata": {
            "tags": []
          },
          "execution_count": 140
        }
      ]
    },
    {
      "cell_type": "markdown",
      "metadata": {
        "id": "vaq8bluBLqcE",
        "colab_type": "text"
      },
      "source": [
        "evaluate model"
      ]
    },
    {
      "cell_type": "code",
      "metadata": {
        "id": "Xjl80QyULsIz",
        "colab_type": "code",
        "outputId": "85ca617e-e100-4ca4-e893-56e99d694ca3",
        "colab": {
          "base_uri": "https://localhost:8080/",
          "height": 51
        }
      },
      "source": [
        "model.evaluate(x_test_normalized, y_test, verbose=1)"
      ],
      "execution_count": 0,
      "outputs": [
        {
          "output_type": "stream",
          "text": [
            "313/313 [==============================] - 0s 1ms/step - loss: 0.0751 - accuracy: 0.9762\n"
          ],
          "name": "stdout"
        },
        {
          "output_type": "execute_result",
          "data": {
            "text/plain": [
              "[0.07512331753969193, 0.9761999845504761]"
            ]
          },
          "metadata": {
            "tags": []
          },
          "execution_count": 142
        }
      ]
    }
  ]
}